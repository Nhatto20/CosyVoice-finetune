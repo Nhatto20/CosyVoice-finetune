{
 "cells": [
  {
   "cell_type": "code",
   "execution_count": 6,
   "id": "a91d85ad",
   "metadata": {},
   "outputs": [
    {
     "name": "stdout",
     "output_type": "stream",
     "text": [
      "Collecting git+https://github.com/CodeLinkIO/Vietnamese-text-normalization.git@main\n",
      "  Cloning https://github.com/CodeLinkIO/Vietnamese-text-normalization.git (to revision main) to c:\\users\\japan\\appdata\\local\\temp\\pip-req-build-wyldn2uy\n",
      "  Resolved https://github.com/CodeLinkIO/Vietnamese-text-normalization.git to commit 4f7b9ea525de73b95838700abab33b68a96bfe85\n",
      "  Installing build dependencies: started\n",
      "  Installing build dependencies: finished with status 'done'\n",
      "  Getting requirements to build wheel: started\n",
      "  Getting requirements to build wheel: finished with status 'done'\n",
      "  Preparing metadata (pyproject.toml): started\n",
      "  Preparing metadata (pyproject.toml): finished with status 'done'\n",
      "Building wheels for collected packages: vi_cleaner\n",
      "  Building wheel for vi_cleaner (pyproject.toml): started\n",
      "  Building wheel for vi_cleaner (pyproject.toml): finished with status 'done'\n",
      "  Created wheel for vi_cleaner: filename=vi_cleaner-0.0.1-py3-none-any.whl size=23244 sha256=d12d09925d5d8ceff8188d4d612380ecada01b3d5775c19415ea3451dcc34453\n",
      "  Stored in directory: C:\\Users\\japan\\AppData\\Local\\Temp\\pip-ephem-wheel-cache-z5tqnnhv\\wheels\\65\\ac\\09\\b021fe5d40f4460e699150c33db1a80f551534e1de1a31a521\n",
      "Successfully built vi_cleaner\n",
      "Installing collected packages: vi_cleaner\n",
      "Successfully installed vi_cleaner-0.0.1\n",
      "Note: you may need to restart the kernel to use updated packages.\n"
     ]
    },
    {
     "name": "stderr",
     "output_type": "stream",
     "text": [
      "  Running command git clone --filter=blob:none --quiet https://github.com/CodeLinkIO/Vietnamese-text-normalization.git 'C:\\Users\\japan\\AppData\\Local\\Temp\\pip-req-build-wyldn2uy'\n"
     ]
    }
   ],
   "source": [
    "pip install git+https://github.com/CodeLinkIO/Vietnamese-text-normalization.git@main"
   ]
  },
  {
   "cell_type": "code",
   "execution_count": 9,
   "id": "dcb8e736",
   "metadata": {},
   "outputs": [
    {
     "name": "stdout",
     "output_type": "stream",
     "text": [
      "Collecting vietnam_number\n",
      "  Downloading vietnam_number-1.0.3-py3-none-any.whl.metadata (11 kB)\n",
      "Downloading vietnam_number-1.0.3-py3-none-any.whl (21 kB)\n",
      "Installing collected packages: vietnam_number\n",
      "Successfully installed vietnam_number-1.0.3\n",
      "Note: you may need to restart the kernel to use updated packages.\n"
     ]
    }
   ],
   "source": [
    "pip install vietnam_number"
   ]
  },
  {
   "cell_type": "code",
   "execution_count": 7,
   "id": "d4ee04b9",
   "metadata": {},
   "outputs": [
    {
     "name": "stdout",
     "output_type": "stream",
     "text": [
      "c:\\Users\\japan\\AppData\\Local\\Programs\\Python\\Python38\\lib\\site-packages\\vi_cleaner\\__init__.py\n"
     ]
    }
   ],
   "source": [
    "import vi_cleaner\n",
    "print(vi_cleaner.__file__)"
   ]
  },
  {
   "cell_type": "code",
   "execution_count": null,
   "id": "e319b8bd",
   "metadata": {},
   "outputs": [
    {
     "name": "stdout",
     "output_type": "stream",
     "text": [
      "ngày ngày một tháng hai là ngày mùng một tết, tôi thêm một tuổi mới,cao thêm ba xen ti mét, được lì xì một triệu không trăm nghìn không trăm đồng. cu tôi dài ba mươi xen ti mét!\n",
      "Ngày ngày một tháng hai là ngày mùng một Tết, tôi thêm một tuổi mới,cao thêm ba xen ti mét, được lì xì một triệu không trăm nghìn không trăm đồng. Cu tôi dài ba mươi xen ti mét!\n"
     ]
    }
   ],
   "source": [
    "import vi_cleaner\n",
    "from vi_cleaner.vi_cleaner import ViCleaner\n",
    "text = \"Ngày 01/02 là ngày mùng 1 Tết , tôi thêm 1 tuổi mới,cao thêm 3 cm, được lì xì 1.000.000 đồng. Cu tôi dài 30 cm!\"\n",
    "\n",
    "cleaner = ViCleaner()\n",
    "print(cleaner.clean_text(text))\n",
    "#print(cleaner.clean_text_half(text)) "
   ]
  },
  {
   "cell_type": "code",
   "execution_count": null,
   "id": "a3ce4a29",
   "metadata": {},
   "outputs": [
    {
     "name": "stderr",
     "output_type": "stream",
     "text": [
      "c:\\Users\\japan\\AppData\\Local\\Programs\\Python\\Python38\\lib\\site-packages\\tqdm\\auto.py:21: TqdmWarning: IProgress not found. Please update jupyter and ipywidgets. See https://ipywidgets.readthedocs.io/en/stable/user_install.html\n",
      "  from .autonotebook import tqdm as notebook_tqdm\n"
     ]
    }
   ],
   "source": [
    "from huggingface_hub import login\n",
    "\n",
    "hug_token = \"điền token hugginface của b ở đây\"\n",
    "login(token=hug_token)\n",
    "from datasets import load_dataset\n",
    "from IPython.display import Audio\n",
    "import soundfile as sf\n",
    "import os\n",
    "\n"
   ]
  },
  {
   "cell_type": "code",
   "execution_count": null,
   "id": "22f47188",
   "metadata": {},
   "outputs": [],
   "source": [
    "def download_and_save(amount, skip_amount=0,output_dir = None):\n",
    "    # Import thư viện cần thiết\n",
    "    import os\n",
    "    import soundfile as sf\n",
    "    from datasets import load_dataset\n",
    "    from tqdm import tqdm\n",
    "    from vi_cleaner.vi_cleaner import ViCleaner\n",
    "\n",
    "    # Tạo thư mục output nếu chưa tồn tại\n",
    "    #output_dir = \"Test1004/data/your_dataset\"\n",
    "    if not output_dir:\n",
    "        raise('Please provide an output dir')\n",
    "    os.makedirs(output_dir, exist_ok=True)\n",
    "\n",
    "    # Tải dataset với chế độ streaming\n",
    "    print(f\"Bắt đầu tải dataset, bỏ qua {skip_amount} mẫu đầu và lấy {amount} mẫu\")\n",
    "    dataset = load_dataset(\"capleaf/viVoice\", streaming=True)\n",
    "    \n",
    "    #text cleaner\n",
    "    cleaner = ViCleaner()\n",
    "    \n",
    "    # Tạo iterators từ dataset\n",
    "    iterator = iter(dataset[\"train\"].skip(skip_amount).take(amount))\n",
    "    \n",
    "    # Sử dụng tqdm để hiển thị tiến trình\n",
    "    with tqdm(total=amount, desc=\"Downloading and saving\") as pbar:\n",
    "        for idx in range(amount):\n",
    "            try:\n",
    "                # Lấy mẫu tiếp theo\n",
    "                data = next(iterator)\n",
    "                \n",
    "                # Trích xuất dữ liệu\n",
    "                audio_array = data[\"audio\"][\"array\"]\n",
    "                sampling_rate = data[\"audio\"][\"sampling_rate\"]\n",
    "                \n",
    "                channel = data[\"channel\"]\n",
    "                text = cleaner.clean_text(data[\"text\"])\n",
    "                \n",
    "                # Tạo tên file với chỉ số bắt đầu từ skip_amount\n",
    "                actual_idx = skip_amount + idx\n",
    "                filename_base = f\"{channel}___{actual_idx:06d}\"\n",
    "                \n",
    "                # Lưu audio\n",
    "                audio_path = os.path.join(output_dir, f\"{filename_base}.wav\")\n",
    "                sf.write(audio_path, audio_array, sampling_rate)\n",
    "                \n",
    "                # Lưu text\n",
    "                text_path = os.path.join(output_dir, f\"{filename_base}.normalized.txt\")\n",
    "                with open(text_path, \"w\", encoding=\"utf-8\") as f:\n",
    "                    f.write(text)\n",
    "                \n",
    "                # Cập nhật tiến trình\n",
    "                pbar.update(1)\n",
    "                \n",
    "            except StopIteration:\n",
    "                print(f\"Đã đạt đến cuối dataset sau {idx} mẫu\")\n",
    "                break\n",
    "            except Exception as e:\n",
    "                print(f\"Lỗi khi xử lý mẫu {idx}: {str(e)}\")\n",
    "                continue\n",
    "            \n",
    "    print(f\"Hoàn thành! Đã tải và lưu {amount} mẫu\")"
   ]
  },
  {
   "cell_type": "code",
   "execution_count": 6,
   "id": "d389f093",
   "metadata": {},
   "outputs": [
    {
     "name": "stdout",
     "output_type": "stream",
     "text": [
      "Bắt đầu tải dataset, bỏ qua 0 mẫu đầu và lấy 5000 mẫu\n"
     ]
    },
    {
     "name": "stderr",
     "output_type": "stream",
     "text": [
      "Downloading and saving: 100%|██████████| 5000/5000 [04:49<00:00, 17.28it/s]\n"
     ]
    },
    {
     "name": "stdout",
     "output_type": "stream",
     "text": [
      "Hoàn thành! Đã tải và lưu 5000 mẫu\n",
      "Bắt đầu tải dataset, bỏ qua 5000 mẫu đầu và lấy 1000 mẫu\n"
     ]
    },
    {
     "name": "stderr",
     "output_type": "stream",
     "text": [
      "Downloading and saving: 100%|██████████| 1000/1000 [04:28<00:00,  3.72it/s] "
     ]
    },
    {
     "name": "stdout",
     "output_type": "stream",
     "text": [
      "Hoàn thành! Đã tải và lưu 1000 mẫu\n"
     ]
    },
    {
     "name": "stderr",
     "output_type": "stream",
     "text": [
      "\n"
     ]
    }
   ],
   "source": [
    "vivoice_train = \"C:/Users/japan/datasets/Speech/viVoice-train\"\n",
    "vivoice_test = \"C:/Users/japan/datasets/Speech/viVoice-test\"\n",
    "\n",
    "amount = 5000\n",
    "download_and_save(amount=amount,skip_amount = 0,output_dir=vivoice_train)\n",
    "download_and_save(amount=1000,skip_amount = amount,output_dir=vivoice_test)\n"
   ]
  },
  {
   "cell_type": "code",
   "execution_count": null,
   "id": "170884e5",
   "metadata": {},
   "outputs": [
    {
     "name": "stdout",
     "output_type": "stream",
     "text": [
      "Bắt đầu tải dataset, bỏ qua 6000 mẫu đầu và lấy 3000 mẫu\n"
     ]
    },
    {
     "name": "stderr",
     "output_type": "stream",
     "text": [
      "Downloading and saving:   0%|          | 0/3000 [00:00<?, ?it/s]'(ReadTimeoutError(\"HTTPSConnectionPool(host='huggingface.co', port=443): Read timed out. (read timeout=10)\"), '(Request ID: 6509500d-3055-4dd9-b62a-9693c4f2fcfb)')' thrown while requesting GET https://huggingface.co/datasets/capleaf/viVoice/resolve/693e9882c8e73b31e96a723741fa1861c3252b75/data/train-00000-of-00354.parquet\n",
      "Retrying in 1s [Retry 1/5].\n",
      "Downloading and saving: 100%|██████████| 3000/3000 [06:05<00:00,  8.21it/s]  \n"
     ]
    },
    {
     "name": "stdout",
     "output_type": "stream",
     "text": [
      "Hoàn thành! Đã tải và lưu 3000 mẫu\n",
      "Bắt đầu tải dataset, bỏ qua 9000 mẫu đầu và lấy 1000 mẫu\n"
     ]
    },
    {
     "name": "stderr",
     "output_type": "stream",
     "text": [
      "Downloading and saving: 100%|██████████| 1000/1000 [06:25<00:00,  2.60it/s] "
     ]
    },
    {
     "name": "stdout",
     "output_type": "stream",
     "text": [
      "Hoàn thành! Đã tải và lưu 1000 mẫu\n"
     ]
    },
    {
     "name": "stderr",
     "output_type": "stream",
     "text": [
      "\n"
     ]
    }
   ],
   "source": [
    "vivoice_train2 = \"C:/Users/japan/datasets/Speech/viVoice-train2\"\n",
    "vivoice_test2 = \"C:/Users/japan/datasets/Speech/viVoice-test2\"\n",
    "\n",
    "download_and_save(amount=3000,skip_amount = 6000,output_dir=vivoice_train2)\n",
    "download_and_save(amount=1000,skip_amount = 9000,output_dir=vivoice_test2)\n"
   ]
  },
  {
   "cell_type": "code",
   "execution_count": 11,
   "id": "7a94a05e",
   "metadata": {},
   "outputs": [
    {
     "name": "stdout",
     "output_type": "stream",
     "text": [
      "Tổng thời lượng audio trong C:/Users/japan/datasets/Speech/viVoice-train2: 3.52 giờ\n"
     ]
    }
   ],
   "source": [
    "import os\n",
    "import soundfile as sf\n",
    "\n",
    "def get_total_audio_hours(dir_path: str) -> float:\n",
    "    \"\"\"\n",
    "    Tính tổng số giờ audio trong thư mục (bao gồm các file .wav con).\n",
    "    \"\"\"\n",
    "    total_seconds = 0.0\n",
    "    \n",
    "    for root, _, files in os.walk(dir_path):\n",
    "        for fname in files:\n",
    "            if fname.lower().endswith(\".wav\"):\n",
    "                fpath = os.path.join(root, fname)\n",
    "                try:\n",
    "                    info = sf.info(fpath)\n",
    "                    total_seconds += info.frames / info.samplerate\n",
    "                except Exception as e:\n",
    "                    print(f\"Lỗi đọc {fpath}: {e}\")\n",
    "    \n",
    "    return total_seconds / 3600.0  # đổi giây -> giờ\n",
    "\n",
    "\n",
    "dir_path = \"C:/Users/japan/datasets/Speech/viVoice-train2\"\n",
    "hours = get_total_audio_hours(dir_path)\n",
    "print(f\"Tổng thời lượng audio trong {dir_path}: {hours:.2f} giờ\")\n"
   ]
  }
 ],
 "metadata": {
  "kernelspec": {
   "display_name": "F5-TTS (venv)",
   "language": "python",
   "name": "f5-tts"
  },
  "language_info": {
   "codemirror_mode": {
    "name": "ipython",
    "version": 3
   },
   "file_extension": ".py",
   "mimetype": "text/x-python",
   "name": "python",
   "nbconvert_exporter": "python",
   "pygments_lexer": "ipython3",
   "version": "3.8.10"
  }
 },
 "nbformat": 4,
 "nbformat_minor": 5
}
